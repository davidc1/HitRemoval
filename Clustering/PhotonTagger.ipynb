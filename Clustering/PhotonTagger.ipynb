{
 "cells": [
  {
   "cell_type": "code",
   "execution_count": null,
   "metadata": {
    "collapsed": true
   },
   "outputs": [],
   "source": [
    "%matplotlib inline\n",
    "#%pylab\n",
    "import matplotlib\n",
    "import matplotlib.pyplot as plt\n",
    "import matplotlib.colors as mpc\n",
    "import matplotlib.dates as dts\n",
    "import numpy as np\n",
    "import pandas as pd\n",
    "import itertools\n",
    "import os\n",
    "import ROOT\n",
    "import datetime\n",
    "from root_numpy import root2array, root2rec, tree2rec, array2root\n",
    "from scipy.optimize import curve_fit\n",
    "from scipy.misc import factorial\n",
    "plt.rcParams.update({'font.size': 16})"
   ]
  },
  {
   "cell_type": "code",
   "execution_count": null,
   "metadata": {
    "collapsed": true
   },
   "outputs": [],
   "source": [
    "from larlite import larlite"
   ]
  },
  {
   "cell_type": "code",
   "execution_count": null,
   "metadata": {
    "collapsed": false
   },
   "outputs": [],
   "source": [
    "fin = ROOT.TFile('/home/david/uboone/data/mcc7/cosmics/photonclusters.root')\n",
    "t_clus = fin.Get('cluster_photon_tree')\n",
    "t_hit  = fin.Get('hit_gaushit_tree') "
   ]
  },
  {
   "cell_type": "code",
   "execution_count": null,
   "metadata": {
    "collapsed": true
   },
   "outputs": [],
   "source": [
    "t2cm = 0.05571\n",
    "w2cm = 0.3"
   ]
  },
  {
   "cell_type": "code",
   "execution_count": null,
   "metadata": {
    "collapsed": false
   },
   "outputs": [],
   "source": [
    "def getHitVector(n):\n",
    "    t_hit.GetEntry(n)\n",
    "    ev_hit_v = t_hit.hit_gaushit_branch\n",
    "    hit_w_v = [ x.WireID().Wire * w2cm for x in ev_hit_v if (x.WireID().Plane == 2)]\n",
    "    hit_t_v = [ x.PeakTime()    * t2cm for x in ev_hit_v if (x.WireID().Plane == 2)]\n",
    "    hit_q_v = [ x.Integral()           for x in ev_hit_v if (x.WireID().Plane == 2)]\n",
    "    return hit_w_v, hit_t_v, hit_q_v"
   ]
  },
  {
   "cell_type": "code",
   "execution_count": null,
   "metadata": {
    "collapsed": false
   },
   "outputs": [],
   "source": [
    "Zmax = 1036\n",
    "Xmax = 360\n",
    "boxwidth = 50\n",
    "\n",
    "Z = np.arange(boxwidth/2., Zmax-boxwidth/2., boxwidth)\n",
    "X = np.arange(boxwidth/2., Xmax-boxwidth/2., boxwidth)\n",
    "Z, X = np.meshgrid(Z, X)\n",
    "\n",
    "Nz = Zmax/boxwidth + 1\n",
    "Nx = Xmax/boxwidth + 1\n",
    "\n",
    "ZmaxBox = Nz * boxwidth\n",
    "XmaxBox = Nx * boxwidth\n",
    "\n",
    "def GenerateHeatMap(n):\n",
    "    t_clus.GetEntry(n)\n",
    "    clus_v = t_clus.cluster_photon_branch\n",
    "    Y_clus_v = [clus for clus in clus_v if ( (clus.View() == 2) and (clus.NHits() < 30) and (clus.NHits() > 2) )]\n",
    "    print 'there are %i clusters'%len(Y_clus_v)\n",
    "    # create list of average cluster locations\n",
    "    Y_clus_loc_v = []\n",
    "    for clus in Y_clus_v:\n",
    "        w_avg = 0.5 * (clus.StartWire() + clus.EndWire())\n",
    "        t_avg = 0.5 * (clus.StartTick() + clus.EndTick())\n",
    "        Y_clus_loc_v.append( (int(w_avg * w2cm), int(t_avg * t2cm)) )\n",
    "        \n",
    "    #print Y_clus_loc_v\n",
    "    \n",
    "    mat = [ [ 0 for x in range(Nz)] for y in range(Nx)]\n",
    "    matpos = [ [ (0,0) for x in range(Nz)] for y in range(Nx)]\n",
    "    \n",
    "    for z in xrange(Nz):\n",
    "        for x in xrange(Nx):\n",
    "            # count how many clusters in this block\n",
    "            zpos = boxwidth * (z + 0.5)\n",
    "            xpos = boxwidth * (x + 0.5)\n",
    "            matpos[x][z] = (zpos,xpos)\n",
    "            #print 'box position : [%i, %i]'%(int(zpos),int(xpos))\n",
    "            \n",
    "            for clus_loc in Y_clus_loc_v:\n",
    "                #print '\\t cluster position : [%i, %i]'%(clus_loc[0],clus_loc[1])\n",
    "                d = np.sqrt( (clus_loc[0] - zpos)**2 + (clus_loc[1] - xpos)**2 )\n",
    "                #print '\\t distance : ',d\n",
    "                if (d < boxwidth):\n",
    "                    mat[Nx-x-1][z] += 1\n",
    "    # split the TPC in a 2D map of 50 cm blocks\n",
    "    #print matpos\n",
    "    return mat\n",
    "    \n"
   ]
  },
  {
   "cell_type": "code",
   "execution_count": null,
   "metadata": {
    "collapsed": false
   },
   "outputs": [],
   "source": [
    "for n in xrange(100):\n",
    "    \n",
    "    hit_w, hit_t, hit_q_v = getHitVector(n)\n",
    "    mat = GenerateHeatMap(n)\n",
    "    \n",
    "    npmat = np.array(mat)\n",
    "    \n",
    "    maxval = 0\n",
    "    for i in mat:\n",
    "        for j in i:\n",
    "            if j > maxval: maxval = j\n",
    "    if (maxval < 7): continue\n",
    "\n",
    "    fig = plt.figure(figsize=(17,8))\n",
    "\n",
    "    EXTENT = 0, ZmaxBox, 0, XmaxBox\n",
    "    plt.imshow(mat,extent=EXTENT,interpolation='nearest',alpha=0.5, vmin=0, vmax=10)\n",
    "\n",
    "    #sc = plt.scatter(hit_w,hit_t,s=20,c=hit_q_v , vmin=0, vmax=400, edgecolors='')\n",
    "    plt.scatter(hit_w,hit_t,s=20, facecolors='k', edgecolors='')\n",
    "    #plt.colorbar(sc)\n",
    "    plt.grid()\n",
    "    plt.xlim(-10,ZmaxBox+10)\n",
    "    plt.title('Entry %i'%n)\n",
    "\n",
    "    plt.show()"
   ]
  },
  {
   "cell_type": "code",
   "execution_count": null,
   "metadata": {
    "collapsed": false
   },
   "outputs": [],
   "source": [
    "# show cluster integral vs. size:\n",
    "\n",
    "clus_integral_v = []\n",
    "clus_size_v     = []\n",
    "\n",
    "for n in xrange(100):\n",
    "    t_clus.GetEntry(n)\n",
    "    clus_v = t_clus.cluster_rawcluster_branch\n",
    "    Y_clus_v = [clus for clus in clus_v if ( (clus.View() == 2) and (clus.NHits() > 0) )]\n",
    "    for clus in Y_clus_v:\n",
    "        clus_integral_v.append( clus.Integral())\n",
    "        clus_size_v.append( clus.NHits() )"
   ]
  },
  {
   "cell_type": "code",
   "execution_count": null,
   "metadata": {
    "collapsed": false
   },
   "outputs": [],
   "source": [
    "fig = plt.figure(figsize=(10,10))\n",
    "plt.hist(clus_integral_v,bins=np.linspace(0,200,100))\n",
    "plt.yscale('log')\n",
    "plt.grid()\n",
    "plt.show()"
   ]
  },
  {
   "cell_type": "code",
   "execution_count": null,
   "metadata": {
    "collapsed": false
   },
   "outputs": [],
   "source": [
    "fig = plt.figure(figsize=(10,10))\n",
    "\n",
    "BINS = (np.linspace(0,500,100),np.linspace(0,10,11))\n",
    "from matplotlib.colors import LogNorm\n",
    "\n",
    "plt.hist2d(clus_integral_v,clus_size_v,bins=BINS,norm=LogNorm())\n",
    "#plt.scatter(clus_integral_v,clus_size_v)#,bins=BINS)\n",
    "#plt.xlim([0,2000])\n",
    "#plt.ylim([0,20])\n",
    "plt.grid()\n",
    "plt.show()"
   ]
  },
  {
   "cell_type": "code",
   "execution_count": null,
   "metadata": {
    "collapsed": true
   },
   "outputs": [],
   "source": []
  }
 ],
 "metadata": {
  "kernelspec": {
   "display_name": "Python 2",
   "language": "python",
   "name": "python2"
  },
  "language_info": {
   "codemirror_mode": {
    "name": "ipython",
    "version": 2
   },
   "file_extension": ".py",
   "mimetype": "text/x-python",
   "name": "python",
   "nbconvert_exporter": "python",
   "pygments_lexer": "ipython2",
   "version": "2.7.10"
  }
 },
 "nbformat": 4,
 "nbformat_minor": 0
}
